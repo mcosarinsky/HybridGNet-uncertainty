{
 "cells": [
  {
   "cell_type": "code",
   "execution_count": 1,
   "id": "8933a3e3",
   "metadata": {},
   "outputs": [
    {
     "name": "stderr",
     "output_type": "stream",
     "text": [
      "/media/ngaggion/SSD1TB/miniconda3/envs/pytorch_geometric/lib/python3.9/site-packages/pandas/core/arrays/masked.py:60: UserWarning: Pandas requires version '1.3.6' or newer of 'bottleneck' (version '1.3.5' currently installed).\n",
      "  from pandas.core import (\n"
     ]
    }
   ],
   "source": [
    "import os\n",
    "import cv2\n",
    "import pandas as pd\n",
    "import matplotlib.pyplot as plt\n",
    "from DataPreparation import *\n",
    "\n",
    "img_dir_corr = 'Outputs/Images/Corrupted/Occlusion/1'\n",
    "img_dir = 'Outputs/Images/Clean'\n",
    "img_name = 'CHNCXR_0080_0.png'\n",
    "\n",
    "df_corr, img_corr = load_image_and_samples(img_name, img_dir_corr)\n",
    "df_orig, img_orig = load_image_and_samples(img_name, img_dir)"
   ]
  },
  {
   "cell_type": "code",
   "execution_count": null,
   "id": "a44c152e",
   "metadata": {},
   "outputs": [
    {
     "data": {
      "text/plain": [
       "292"
      ]
     },
     "execution_count": 39,
     "metadata": {},
     "output_type": "execute_result"
    }
   ],
   "source": [
    "output_dir_skip = 'Outputs/Predictions/Skip/Corrupted/'\n",
    "\n",
    "def collect_errors_and_sigmas(output_dir):\n",
    "    mean_errors, mean_sigmas = [], []        \n",
    "    node_err, node_sigmas = [], []\n",
    "\n",
    "    for root, dirs, files in os.walk(folder):\n",
    "        for file in files:\n",
    "            if file.endswith('.csv'):\n",
    "                file_path = os.path.join(root, file)\n",
    "                error, sigmas = get_error(root, file)\n",
    "                \n",
    "                mean_errors.append(error.mean())\n",
    "                mean_sigmas.append(sigmas.mean())\n",
    "\n",
    "                node_err.extend(error)\n",
    "                node_sigmas.extend(sigmas)\n",
    "    \n",
    "    return mean_errors, mean_sigmas, node_err, node_sigmas\n",
    "\n",
    "# Collect data\n",
    "mean_errors_skip, mean_sigmas_skip, _, _ = collect_errors_and_sigmas(os.path.join(output_dir_skip, 'Occlusion'))"
   ]
  },
  {
   "cell_type": "code",
   "execution_count": 23,
   "id": "3a99487d",
   "metadata": {},
   "outputs": [
    {
     "name": "stderr",
     "output_type": "stream",
     "text": [
      "45815it [00:00, 66782.64it/s]\n"
     ]
    }
   ],
   "source": [
    "dataset_path = 'Outputs/Predictions/Skip/CheXpert'\n",
    "sigmas = find_uncertainty(dataset_path, reduce=False)"
   ]
  }
 ],
 "metadata": {
  "kernelspec": {
   "display_name": "pytorch_geometric",
   "language": "python",
   "name": "python3"
  },
  "language_info": {
   "codemirror_mode": {
    "name": "ipython",
    "version": 3
   },
   "file_extension": ".py",
   "mimetype": "text/x-python",
   "name": "python",
   "nbconvert_exporter": "python",
   "pygments_lexer": "ipython3",
   "version": "3.9.18"
  }
 },
 "nbformat": 4,
 "nbformat_minor": 5
}
